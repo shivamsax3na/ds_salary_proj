{
 "cells": [
  {
   "cell_type": "markdown",
   "metadata": {},
   "source": [
    "### Scraping datasets of Data Science Job Profiles"
   ]
  },
  {
   "cell_type": "code",
   "execution_count": 24,
   "metadata": {},
   "outputs": [],
   "source": [
    "from bs4 import BeautifulSoup as bs\n",
    "import requests\n",
    "import pandas as pd\n",
    "from selenium import webdriver\n",
    "import time"
   ]
  },
  {
   "cell_type": "code",
   "execution_count": 25,
   "metadata": {},
   "outputs": [],
   "source": [
    "url = \"https://www.naukri.com/data-science-jobs-1\"\n",
    "r = requests.get(url)\n",
    "\n",
    "# # converting to a bs obj\n",
    "# soup = bs(r.content)\n",
    "\n",
    "# # uncomment the code below to see the HTML content that we stored in soup\n",
    "# contents = soup.prettify()\n",
    "# print(contents) \n"
   ]
  },
  {
   "cell_type": "code",
   "execution_count": 26,
   "metadata": {},
   "outputs": [],
   "source": [
    "driver = webdriver.Chrome(\".\\\\chromedriver.exe\")\n",
    "driver.get(url)\n",
    "time.sleep(3)\n",
    "soup = bs(driver.page_source, 'html5lib')\n",
    "## uncomment line below to see the data\n",
    "# print(soup.prettify())\n",
    "driver.close()"
   ]
  },
  {
   "cell_type": "code",
   "execution_count": 82,
   "metadata": {},
   "outputs": [],
   "source": [
    "df=pd.DataFrame(columns=['Title', 'Rating','Company','City'])"
   ]
  },
  {
   "cell_type": "code",
   "execution_count": 83,
   "metadata": {
    "scrolled": true
   },
   "outputs": [],
   "source": [
    "results = soup.find(class_ = 'title fw500 ellipsis')\n",
    "## uncomment line below to see the data\n",
    "#print(results.prettify())"
   ]
  },
  {
   "cell_type": "code",
   "execution_count": 84,
   "metadata": {},
   "outputs": [],
   "source": [
    "job_elems = soup.find_all('article', class_ = 'jobTuple bgWhite br4 mb-8')\n",
    "## uncomment line below to see the data\n",
    "# job_elems"
   ]
  },
  {
   "cell_type": "code",
   "execution_count": 92,
   "metadata": {},
   "outputs": [
    {
     "name": "stdout",
     "output_type": "stream",
     "text": [
      "Data science Managers - Immediate Joiners\n",
      "3.4\n",
      "Virtusa Consulting Services Pvt Ltd\n",
      "Hyderabad/Secunderabad, Pune, Chennai, Bangalore/Bengaluru\n",
      "\n",
      "\n",
      "Job | Freshers - JAVA/DOT NET/DATA SCIENCE/PYTHON\n",
      "Machine Learning & Automation Expert - Data Science\n",
      "4.0\n",
      "GENPACT India Private Limited\n",
      "Gurgaon/Gurugram, Bangalore/Bengaluru\n",
      "\n",
      "\n",
      "Senior Data Science Engineer\n",
      "4.1\n",
      "NetApp\n",
      "Bangalore\n",
      "\n",
      "\n",
      "Junior Data Science\n",
      "Data Science/analysis Expert - Machine Learning\n",
      "2.9\n",
      "Catalyst\n",
      "Bangalore\n",
      "\n",
      "\n",
      "Data Science Internship\n",
      "Trainer For Data Science and Business Analytics\n",
      "Data Science - Intern\n",
      "3.6\n",
      "Mindworksglobal\n",
      "Noida\n",
      "\n",
      "\n",
      "Associate Professional Data Sciences\n",
      "3.5\n",
      "DXC Technology\n",
      "Bangalore\n",
      "\n",
      "\n",
      "Urgent req - Data science & Web dev.Trainer / faculty ; exp - 0-4yrs\n",
      "Data Science Lead - Marketing Analytics\n",
      "Cluster Manager - Data Science & Engineering Unit\n",
      "4.1\n",
      "Bajaj Finserv\n",
      "Pune\n",
      "\n",
      "\n",
      "Senior Project Manager - Data Science, Machine Learning and Big Data\n",
      "Data Science\n",
      "3.6\n",
      "Capgemini Technology Services India Limited\n",
      "Mumbai\n",
      "\n",
      "\n",
      "Analyst/ Sr. Analyst- Data Science (2+ Years)\n",
      "Senior Expert Data Science - Novartis\n",
      "4.2\n",
      "Novartis Healthcare Pvt. Ltd.\n",
      "Hyderabad\n",
      "\n",
      "\n",
      "Data Science -- Senior Project Manager\n",
      "4.0\n",
      "Mindtree Limited\n",
      "Bangalore\n",
      "\n",
      "\n",
      "Senior Project Manager -- Data Science\n",
      "4.0\n",
      "Mindtree Limited\n",
      "Bangalore\n",
      "\n",
      "\n",
      "Senior Project Manager -- Data Science\n",
      "4.0\n",
      "Mindtree Limited\n",
      "Bangalore\n",
      "\n",
      "\n"
     ]
    }
   ],
   "source": [
    "for job_elem in job_elems:\n",
    "    \n",
    "    \n",
    "    jTitle = job_elem.find('a', class_ = 'title fw500 ellipsis')\n",
    "    jTitle = jTitle.text\n",
    "    print(jTitle)\n",
    "    \n",
    "    jRate = job_elem.find('span', class_ = 'starRating fleft dot')\n",
    "    if jRate is None:\n",
    "        continue\n",
    "    else:\n",
    "        jRate = jRate.text\n",
    "        jrate = float(jRate)\n",
    "    \n",
    "    print(jRate)\n",
    "    \n",
    "    \n",
    "    jCompany = job_elem.find('a', class_ = 'subTitle ellipsis fleft')\n",
    "    jCompany = jCompany.text\n",
    "    print(jCompany)\n",
    "    \n",
    "    \n",
    "    jCity = job_elem.find('li', class_ = 'fleft grey-text br2 placeHolderLi location')\n",
    "    jCity = jCity.text\n",
    "    if jCity == \"Bangalore/Bengaluru\":\n",
    "        jCity = \"Bangalore\"\n",
    "    elif jCity == \"Gurgaon/Gurugram\":\n",
    "        jCity = \"Gurgaon\"\n",
    "    elif jCity == \"Hyderabad/Secunderabad\":\n",
    "        jCity = \"Hyderabad\"\n",
    "    else:\n",
    "        jCity = \"Multiple\"    \n",
    "        \n",
    "    print(jCity)\n",
    "    \n",
    "    print(\"\\n\")\n",
    "    \n",
    "    df = df.append({'Title': jTitle, 'Rating':jRate, 'Company':jCompany, 'City':jCity}, ignore_index=True)\n",
    "    \n",
    "\n",
    "    \n",
    "\n",
    "    "
   ]
  },
  {
   "cell_type": "code",
   "execution_count": 88,
   "metadata": {},
   "outputs": [
    {
     "data": {
      "text/plain": [
       "array(['Hyderabad/Secunderabad, Pune, Chennai, Bangalore/Bengaluru',\n",
       "       'Gurgaon/Gurugram, Bangalore/Bengaluru', 'Bangalore/Bengaluru',\n",
       "       'Noida', 'Pune', 'Mumbai', 'Hyderabad/Secunderabad'], dtype=object)"
      ]
     },
     "execution_count": 88,
     "metadata": {},
     "output_type": "execute_result"
    }
   ],
   "source": [
    "df['City'].unique()"
   ]
  },
  {
   "cell_type": "code",
   "execution_count": 86,
   "metadata": {},
   "outputs": [
    {
     "data": {
      "text/plain": [
       "Index(['Title', 'Rating', 'Company', 'City'], dtype='object')"
      ]
     },
     "execution_count": 86,
     "metadata": {},
     "output_type": "execute_result"
    }
   ],
   "source": [
    "df.columns"
   ]
  },
  {
   "cell_type": "code",
   "execution_count": 87,
   "metadata": {},
   "outputs": [
    {
     "data": {
      "text/html": [
       "<div>\n",
       "<style scoped>\n",
       "    .dataframe tbody tr th:only-of-type {\n",
       "        vertical-align: middle;\n",
       "    }\n",
       "\n",
       "    .dataframe tbody tr th {\n",
       "        vertical-align: top;\n",
       "    }\n",
       "\n",
       "    .dataframe thead th {\n",
       "        text-align: right;\n",
       "    }\n",
       "</style>\n",
       "<table border=\"1\" class=\"dataframe\">\n",
       "  <thead>\n",
       "    <tr style=\"text-align: right;\">\n",
       "      <th></th>\n",
       "      <th>Title</th>\n",
       "      <th>Rating</th>\n",
       "      <th>Company</th>\n",
       "      <th>City</th>\n",
       "    </tr>\n",
       "  </thead>\n",
       "  <tbody>\n",
       "    <tr>\n",
       "      <th>0</th>\n",
       "      <td>Data science Managers - Immediate Joiners</td>\n",
       "      <td>3.4</td>\n",
       "      <td>Virtusa Consulting Services Pvt Ltd</td>\n",
       "      <td>Hyderabad/Secunderabad, Pune, Chennai, Bangalo...</td>\n",
       "    </tr>\n",
       "    <tr>\n",
       "      <th>1</th>\n",
       "      <td>Machine Learning &amp; Automation Expert - Data Sc...</td>\n",
       "      <td>4.0</td>\n",
       "      <td>GENPACT India Private Limited</td>\n",
       "      <td>Gurgaon/Gurugram, Bangalore/Bengaluru</td>\n",
       "    </tr>\n",
       "    <tr>\n",
       "      <th>2</th>\n",
       "      <td>Senior Data Science Engineer</td>\n",
       "      <td>4.1</td>\n",
       "      <td>NetApp</td>\n",
       "      <td>Bangalore/Bengaluru</td>\n",
       "    </tr>\n",
       "    <tr>\n",
       "      <th>3</th>\n",
       "      <td>Data Science/analysis Expert - Machine Learning</td>\n",
       "      <td>2.9</td>\n",
       "      <td>Catalyst</td>\n",
       "      <td>Bangalore/Bengaluru</td>\n",
       "    </tr>\n",
       "    <tr>\n",
       "      <th>4</th>\n",
       "      <td>Data Science - Intern</td>\n",
       "      <td>3.6</td>\n",
       "      <td>Mindworksglobal</td>\n",
       "      <td>Noida</td>\n",
       "    </tr>\n",
       "    <tr>\n",
       "      <th>5</th>\n",
       "      <td>Associate Professional Data Sciences</td>\n",
       "      <td>3.5</td>\n",
       "      <td>DXC Technology</td>\n",
       "      <td>Bangalore/Bengaluru</td>\n",
       "    </tr>\n",
       "    <tr>\n",
       "      <th>6</th>\n",
       "      <td>Cluster Manager - Data Science &amp; Engineering Unit</td>\n",
       "      <td>4.1</td>\n",
       "      <td>Bajaj Finserv</td>\n",
       "      <td>Pune</td>\n",
       "    </tr>\n",
       "    <tr>\n",
       "      <th>7</th>\n",
       "      <td>Data Science</td>\n",
       "      <td>3.6</td>\n",
       "      <td>Capgemini Technology Services India Limited</td>\n",
       "      <td>Mumbai</td>\n",
       "    </tr>\n",
       "    <tr>\n",
       "      <th>8</th>\n",
       "      <td>Senior Expert Data Science - Novartis</td>\n",
       "      <td>4.2</td>\n",
       "      <td>Novartis Healthcare Pvt. Ltd.</td>\n",
       "      <td>Hyderabad/Secunderabad</td>\n",
       "    </tr>\n",
       "    <tr>\n",
       "      <th>9</th>\n",
       "      <td>Data Science -- Senior Project Manager</td>\n",
       "      <td>4.0</td>\n",
       "      <td>Mindtree Limited</td>\n",
       "      <td>Bangalore/Bengaluru</td>\n",
       "    </tr>\n",
       "    <tr>\n",
       "      <th>10</th>\n",
       "      <td>Senior Project Manager -- Data Science</td>\n",
       "      <td>4.0</td>\n",
       "      <td>Mindtree Limited</td>\n",
       "      <td>Bangalore/Bengaluru</td>\n",
       "    </tr>\n",
       "    <tr>\n",
       "      <th>11</th>\n",
       "      <td>Senior Project Manager -- Data Science</td>\n",
       "      <td>4.0</td>\n",
       "      <td>Mindtree Limited</td>\n",
       "      <td>Bangalore/Bengaluru</td>\n",
       "    </tr>\n",
       "  </tbody>\n",
       "</table>\n",
       "</div>"
      ],
      "text/plain": [
       "                                                Title Rating  \\\n",
       "0           Data science Managers - Immediate Joiners    3.4   \n",
       "1   Machine Learning & Automation Expert - Data Sc...    4.0   \n",
       "2                        Senior Data Science Engineer    4.1   \n",
       "3     Data Science/analysis Expert - Machine Learning    2.9   \n",
       "4                               Data Science - Intern    3.6   \n",
       "5                Associate Professional Data Sciences    3.5   \n",
       "6   Cluster Manager - Data Science & Engineering Unit    4.1   \n",
       "7                                        Data Science    3.6   \n",
       "8               Senior Expert Data Science - Novartis    4.2   \n",
       "9              Data Science -- Senior Project Manager    4.0   \n",
       "10             Senior Project Manager -- Data Science    4.0   \n",
       "11             Senior Project Manager -- Data Science    4.0   \n",
       "\n",
       "                                        Company  \\\n",
       "0           Virtusa Consulting Services Pvt Ltd   \n",
       "1                 GENPACT India Private Limited   \n",
       "2                                        NetApp   \n",
       "3                                      Catalyst   \n",
       "4                               Mindworksglobal   \n",
       "5                                DXC Technology   \n",
       "6                                 Bajaj Finserv   \n",
       "7   Capgemini Technology Services India Limited   \n",
       "8                 Novartis Healthcare Pvt. Ltd.   \n",
       "9                              Mindtree Limited   \n",
       "10                             Mindtree Limited   \n",
       "11                             Mindtree Limited   \n",
       "\n",
       "                                                 City  \n",
       "0   Hyderabad/Secunderabad, Pune, Chennai, Bangalo...  \n",
       "1               Gurgaon/Gurugram, Bangalore/Bengaluru  \n",
       "2                                 Bangalore/Bengaluru  \n",
       "3                                 Bangalore/Bengaluru  \n",
       "4                                               Noida  \n",
       "5                                 Bangalore/Bengaluru  \n",
       "6                                                Pune  \n",
       "7                                              Mumbai  \n",
       "8                              Hyderabad/Secunderabad  \n",
       "9                                 Bangalore/Bengaluru  \n",
       "10                                Bangalore/Bengaluru  \n",
       "11                                Bangalore/Bengaluru  "
      ]
     },
     "execution_count": 87,
     "metadata": {},
     "output_type": "execute_result"
    }
   ],
   "source": [
    "df.head(21)"
   ]
  },
  {
   "cell_type": "markdown",
   "metadata": {},
   "source": [
    "###### Uncomment the line below and run the cell to make a csv file ( data.csv ) and write the data-frame above"
   ]
  },
  {
   "cell_type": "code",
   "execution_count": 23,
   "metadata": {},
   "outputs": [],
   "source": [
    "# df.to_csv('n_data_3.csv', encoding='utf-8', index_label='Sr. No')"
   ]
  },
  {
   "cell_type": "code",
   "execution_count": null,
   "metadata": {},
   "outputs": [],
   "source": []
  }
 ],
 "metadata": {
  "kernelspec": {
   "display_name": "Python 3",
   "language": "python",
   "name": "python3"
  },
  "language_info": {
   "codemirror_mode": {
    "name": "ipython",
    "version": 3
   },
   "file_extension": ".py",
   "mimetype": "text/x-python",
   "name": "python",
   "nbconvert_exporter": "python",
   "pygments_lexer": "ipython3",
   "version": "3.8.5"
  }
 },
 "nbformat": 4,
 "nbformat_minor": 4
}
