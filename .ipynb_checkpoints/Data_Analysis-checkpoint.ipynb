{
 "cells": [
  {
   "cell_type": "code",
   "execution_count": 5,
   "metadata": {},
   "outputs": [],
   "source": [
    "import pandas as pd\n",
    "import os\n",
    "from matplotlib import pyplot as plt"
   ]
  },
  {
   "cell_type": "code",
   "execution_count": 3,
   "metadata": {},
   "outputs": [],
   "source": [
    "files = [file for file in os.listdir('./data_chunks')]\n",
    "all_data = pd.DataFrame()\n",
    "for file in files:\n",
    "    df = pd.read_csv(\"./data_chunks/\"+file)\n",
    "    all_data = pd.concat([all_data, df])\n",
    "\n",
    "all_data.to_csv(\"all_data.csv\", index=False)\n"
   ]
  },
  {
   "cell_type": "code",
   "execution_count": 4,
   "metadata": {
    "scrolled": true
   },
   "outputs": [
    {
     "data": {
      "text/html": [
       "<div>\n",
       "<style scoped>\n",
       "    .dataframe tbody tr th:only-of-type {\n",
       "        vertical-align: middle;\n",
       "    }\n",
       "\n",
       "    .dataframe tbody tr th {\n",
       "        vertical-align: top;\n",
       "    }\n",
       "\n",
       "    .dataframe thead th {\n",
       "        text-align: right;\n",
       "    }\n",
       "</style>\n",
       "<table border=\"1\" class=\"dataframe\">\n",
       "  <thead>\n",
       "    <tr style=\"text-align: right;\">\n",
       "      <th></th>\n",
       "      <th>Sr. No</th>\n",
       "      <th>Title</th>\n",
       "      <th>Company</th>\n",
       "      <th>City</th>\n",
       "      <th>CTC</th>\n",
       "      <th>Exp</th>\n",
       "      <th>Rating</th>\n",
       "      <th>Reviews</th>\n",
       "    </tr>\n",
       "  </thead>\n",
       "  <tbody>\n",
       "    <tr>\n",
       "      <th>0</th>\n",
       "      <td>0</td>\n",
       "      <td>Data Science Analyst-Insurance Data Sciences</td>\n",
       "      <td>Xceedance</td>\n",
       "      <td>Gurugram</td>\n",
       "      <td>350000</td>\n",
       "      <td>0</td>\n",
       "      <td>3.8</td>\n",
       "      <td>142</td>\n",
       "    </tr>\n",
       "    <tr>\n",
       "      <th>1</th>\n",
       "      <td>1</td>\n",
       "      <td>BUSINESS ANALYST -DATA SCIENCE-CONSUMER</td>\n",
       "      <td>BRIDGEi2i Analytics Solutions Private Limited</td>\n",
       "      <td>Bengaluru</td>\n",
       "      <td>350000</td>\n",
       "      <td>1</td>\n",
       "      <td>3.6</td>\n",
       "      <td>41</td>\n",
       "    </tr>\n",
       "    <tr>\n",
       "      <th>2</th>\n",
       "      <td>2</td>\n",
       "      <td>Data Science Analyst</td>\n",
       "      <td>JPMorgan Services India Pvt. Ltd</td>\n",
       "      <td>Bengaluru</td>\n",
       "      <td>650000</td>\n",
       "      <td>4</td>\n",
       "      <td>4.1</td>\n",
       "      <td>2017</td>\n",
       "    </tr>\n",
       "    <tr>\n",
       "      <th>3</th>\n",
       "      <td>3</td>\n",
       "      <td>Data Science Analyst 2</td>\n",
       "      <td>Epsilon</td>\n",
       "      <td>Bengaluru</td>\n",
       "      <td>350000</td>\n",
       "      <td>2</td>\n",
       "      <td>3.8</td>\n",
       "      <td>189</td>\n",
       "    </tr>\n",
       "    <tr>\n",
       "      <th>4</th>\n",
       "      <td>4</td>\n",
       "      <td>Team Lead/ Sr. Scientist- Analytics &amp; Data Sci...</td>\n",
       "      <td>Global Analytics India Pvt. Ltd</td>\n",
       "      <td>NCR</td>\n",
       "      <td>650000</td>\n",
       "      <td>3</td>\n",
       "      <td>3.7</td>\n",
       "      <td>36</td>\n",
       "    </tr>\n",
       "  </tbody>\n",
       "</table>\n",
       "</div>"
      ],
      "text/plain": [
       "   Sr. No                                              Title  \\\n",
       "0       0       Data Science Analyst-Insurance Data Sciences   \n",
       "1       1            BUSINESS ANALYST -DATA SCIENCE-CONSUMER   \n",
       "2       2                               Data Science Analyst   \n",
       "3       3                             Data Science Analyst 2   \n",
       "4       4  Team Lead/ Sr. Scientist- Analytics & Data Sci...   \n",
       "\n",
       "                                         Company       City     CTC  Exp  \\\n",
       "0                                      Xceedance   Gurugram  350000    0   \n",
       "1  BRIDGEi2i Analytics Solutions Private Limited  Bengaluru  350000    1   \n",
       "2               JPMorgan Services India Pvt. Ltd  Bengaluru  650000    4   \n",
       "3                                        Epsilon  Bengaluru  350000    2   \n",
       "4                Global Analytics India Pvt. Ltd        NCR  650000    3   \n",
       "\n",
       "   Rating  Reviews  \n",
       "0     3.8      142  \n",
       "1     3.6       41  \n",
       "2     4.1     2017  \n",
       "3     3.8      189  \n",
       "4     3.7       36  "
      ]
     },
     "execution_count": 4,
     "metadata": {},
     "output_type": "execute_result"
    }
   ],
   "source": [
    "all_data = pd.read_csv('./all_data.csv')\n",
    "all_data.head()"
   ]
  },
  {
   "cell_type": "markdown",
   "metadata": {},
   "source": [
    "#### Question: How much one can earn in an entry level position? "
   ]
  },
  {
   "cell_type": "code",
   "execution_count": 7,
   "metadata": {},
   "outputs": [],
   "source": [
    "pltCtc = all_data['CTC'].tolist()\n",
    "pltRating = all_data['Rating'].tolist()\n",
    "pltExp = all_data['Exp'].tolist()\n",
    "pltReviews = all_data['Reviews'].tolist()"
   ]
  },
  {
   "cell_type": "code",
   "execution_count": 33,
   "metadata": {},
   "outputs": [
    {
     "data": {
      "text/plain": [
       "<function matplotlib.pyplot.show(close=None, block=None)>"
      ]
     },
     "execution_count": 33,
     "metadata": {},
     "output_type": "execute_result"
    },
    {
     "data": {
      "image/png": "[encoded data removed]",
      "text/plain": [
       "<Figure size 432x288 with 1 Axes>"
      ]
     },
     "metadata": {
      "needs_background": "light"
     },
     "output_type": "display_data"
    }
   ],
   "source": [
    "# plt.plot(pltExp, pltCtc)\n",
    "plt.bar(pltExp, pltCtc, color='maroon', width = 0.6)\n",
    "font1 = {'family':'DejaVu Sans','color':'blue','size':20}\n",
    "font2 = {'family':'DejaVu Sans','color':'darkred','size':15}\n",
    "\n",
    "plt.title(\"Experience vs CTC graph\", fontdict = font1)\n",
    "plt.xlabel(\"E X P E R I E N C E\", fontdict = font2)\n",
    "plt.ylabel(\"C T C\", fontdict = font2)\n",
    "\n",
    "plt.show"
   ]
  },
  {
   "cell_type": "markdown",
   "metadata": {},
   "source": [
    "#### Question: Satisfaction in a long run"
   ]
  },
  {
   "cell_type": "code",
   "execution_count": 45,
   "metadata": {},
   "outputs": [
    {
     "data": {
      "text/plain": [
       "<function matplotlib.pyplot.show(close=None, block=None)>"
      ]
     },
     "execution_count": 45,
     "metadata": {},
     "output_type": "execute_result"
    },
    {
     "data": {
      "image/png": "[encoded data removed]",
      "text/plain": [
       "<Figure size 432x288 with 1 Axes>"
      ]
     },
     "metadata": {
      "needs_background": "light"
     },
     "output_type": "display_data"
    }
   ],
   "source": [
    "plt.bar(pltExp, pltRating, color='maroon', width = 0.6)\n",
    "# plt.plot(pltExp, pltRating)\n",
    "plt.title(\"Experience vs CTC graph\", fontdict = font1)\n",
    "plt.xlabel(\"E X P E R I E N C E\", fontdict = font2)\n",
    "plt.ylabel(\"R A T I N G\", fontdict = font2)\n",
    "plt.grid()\n",
    "plt.show"
   ]
  },
  {
   "cell_type": "markdown",
   "metadata": {},
   "source": [
    "#### Question: Companies and their popularities"
   ]
  },
  {
   "cell_type": "code",
   "execution_count": null,
   "metadata": {},
   "outputs": [],
   "source": []
  }
 ],
 "metadata": {
  "kernelspec": {
   "display_name": "Python 3",
   "language": "python",
   "name": "python3"
  },
  "language_info": {
   "codemirror_mode": {
    "name": "ipython",
    "version": 3
   },
   "file_extension": ".py",
   "mimetype": "text/x-python",
   "name": "python",
   "nbconvert_exporter": "python",
   "pygments_lexer": "ipython3",
   "version": "3.8.5"
  }
 },
 "nbformat": 4,
 "nbformat_minor": 4
}
